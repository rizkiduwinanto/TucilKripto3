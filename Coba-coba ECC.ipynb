{
 "cells": [
  {
   "cell_type": "code",
   "execution_count": 1,
   "metadata": {},
   "outputs": [],
   "source": [
    "import matplotlib.pyplot as plt\n",
    "import math\n",
    "import time\n",
    "import functools\n",
    "\n",
    "\n",
    "def timer(func):\n",
    "    \"\"\"Record elapsed time in a function\"\"\"\n",
    "    @functools.wraps(func)\n",
    "    def wrapper_timer(*args, **kwargs):\n",
    "        t = time.time()\n",
    "        func(*args, **kwargs)\n",
    "        print(\"[%s] Elapsed %.6f second\" % (func.__name__, time.time()-t))\n",
    "        return func(*args, **kwargs)\n",
    "    return wrapper_timer"
   ]
  },
  {
   "cell_type": "code",
   "execution_count": 2,
   "metadata": {},
   "outputs": [],
   "source": [
    "def y_square(p, a, b, x):\n",
    "    \"\"\"Compute y^2 in form x^3+ax+b mod p\n",
    "    \"\"\"\n",
    "    return (x**3+a*x+b) % p\n",
    "\n",
    "\n",
    "def is_y_exist(p, a, b, x):\n",
    "    \"\"\"Check whether any y exists for given x in ECC\n",
    "    Returns:\n",
    "        -1 is not exists, a number otherwise\n",
    "    \"\"\"\n",
    "    y_sqr = y_square(p, a, b, x)\n",
    "    for i in range(p):\n",
    "        if ((i*i) % p == y_sqr):\n",
    "            return i\n",
    "    return -1\n",
    "\n",
    "\n",
    "def encode_char(character):\n",
    "    \"\"\"Encoding character to an integer\"\"\"\n",
    "    return 10 + ord(character.lower())-ord('a')\n",
    "\n",
    "\n",
    "def decode_code(code):\n",
    "    \"\"\"Encoding integer to a character\"\"\"\n",
    "    return chr(ord('a') + code-10)\n",
    "\n",
    "\n",
    "def generate_x(m, k, offset):\n",
    "    \"\"\"Yielding x by a function\"\"\"\n",
    "    return m*k+offset\n",
    "\n",
    "\n",
    "def encode(k, n, p, a, b, message_char):\n",
    "    \"\"\"Return encoded point\"\"\"\n",
    "    m = encode_char(message_char)\n",
    "\n",
    "    # Find solveable y\n",
    "    for i in range(1, k):\n",
    "        x = generate_x(m, k, i)\n",
    "        y = is_y_exist(p, a, b, x)\n",
    "        if (y != -1):\n",
    "            break\n",
    "    return (x, y)\n",
    "\n",
    "\n",
    "def decode(k, x):\n",
    "    \"\"\"Return message char\"\"\"\n",
    "    code = math.floor((x-1)/k)\n",
    "    return decode_code(code)"
   ]
  },
  {
   "cell_type": "code",
   "execution_count": 3,
   "metadata": {},
   "outputs": [],
   "source": [
    "@timer\n",
    "def do_encoding(k, n, p, a, b, messages):\n",
    "    \"\"\"Do the encoding things\"\"\"\n",
    "    enc_messages = [encode(k, n, p, a, b, m) for m in messages]\n",
    "    return enc_messages\n",
    "\n",
    "\n",
    "@timer\n",
    "def do_decoding(k, message_point):\n",
    "    \"\"\"Do the decoding things\"\"\"\n",
    "    dec_messages = [decode(k, point[0]) for point in message_point]\n",
    "    return dec_messages"
   ]
  },
  {
   "cell_type": "markdown",
   "metadata": {},
   "source": [
    "## Encoding in ECC using koblitz"
   ]
  },
  {
   "cell_type": "code",
   "execution_count": 8,
   "metadata": {},
   "outputs": [
    {
     "name": "stdout",
     "output_type": "stream",
     "text": [
      "Encoded messages\n",
      "[do_encoding] Elapsed 0.000896 second\n",
      "[(201, 5), (401, 153), (603, 164), (421, 362), (201, 5), (501, 155), (201, 5), (543, 61)]\n",
      "\n",
      "Decoded messages\n",
      "[do_decoding] Elapsed 0.000015 second\n",
      "akulapar\n"
     ]
    }
   ],
   "source": [
    "# CONFIG\n",
    "k = 20\n",
    "p = 751\n",
    "a = -1\n",
    "b = 188\n",
    "# TODO: figure out what 'n' did to the encoding-decoding stuffs\n",
    "n = 727\n",
    "\n",
    "# Samples\n",
    "messages = \"akulapar\"\n",
    "\n",
    "# Encoding\n",
    "print(\"Encoded messages\")\n",
    "enc_messages = do_encoding(k, n, p, a, b, messages)\n",
    "print(enc_messages)\n",
    "\n",
    "# Decoding\n",
    "print(\"\\nDecoded messages\")\n",
    "dec_messages = do_decoding(k, enc_messages)\n",
    "print(\"\".join(dec_messages))"
   ]
  },
  {
   "cell_type": "code",
   "execution_count": null,
   "metadata": {},
   "outputs": [],
   "source": []
  }
 ],
 "metadata": {
  "kernelspec": {
   "display_name": "Python 3",
   "language": "python",
   "name": "python3"
  },
  "language_info": {
   "codemirror_mode": {
    "name": "ipython",
    "version": 3
   },
   "file_extension": ".py",
   "mimetype": "text/x-python",
   "name": "python",
   "nbconvert_exporter": "python",
   "pygments_lexer": "ipython3",
   "version": "3.6.7"
  }
 },
 "nbformat": 4,
 "nbformat_minor": 2
}
